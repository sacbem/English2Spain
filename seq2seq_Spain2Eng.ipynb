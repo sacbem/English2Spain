{
  "cells": [
    {
      "cell_type": "markdown",
      "metadata": {
        "id": "E6X-PXkcIwcW"
      },
      "source": [
        "### Machine translation (資料準備階段 -- 到 Tramsformer 以前都是)\n",
        "\n"
      ]
    },
    {
      "cell_type": "code",
      "execution_count": null,
      "metadata": {
        "colab": {
          "base_uri": "https://localhost:8080/"
        },
        "id": "lX4ixgFaIwcX",
        "outputId": "b31080b1-5ba2-4c4b-852a-16ae91c846af"
      },
      "outputs": [
        {
          "output_type": "stream",
          "name": "stdout",
          "text": [
            "--2023-06-06 19:18:43--  http://storage.googleapis.com/download.tensorflow.org/data/spa-eng.zip\n",
            "Resolving storage.googleapis.com (storage.googleapis.com)... 142.250.4.128, 142.251.10.128, 142.251.12.128, ...\n",
            "Connecting to storage.googleapis.com (storage.googleapis.com)|142.250.4.128|:80... connected.\n",
            "HTTP request sent, awaiting response... 200 OK\n",
            "Length: 2638744 (2.5M) [application/zip]\n",
            "Saving to: ‘spa-eng.zip’\n",
            "\n",
            "spa-eng.zip         100%[===================>]   2.52M  2.23MB/s    in 1.1s    \n",
            "\n",
            "2023-06-06 19:18:45 (2.23 MB/s) - ‘spa-eng.zip’ saved [2638744/2638744]\n",
            "\n"
          ]
        }
      ],
      "source": [
        "!wget http://storage.googleapis.com/download.tensorflow.org/data/spa-eng.zip\n",
        "!unzip -q spa-eng.zip"
      ]
    },
    {
      "cell_type": "code",
      "execution_count": null,
      "metadata": {
        "id": "S2mRMYfqIwcY"
      },
      "outputs": [],
      "source": [
        "text_file = \"spa-eng/spa.txt\"\n",
        "with open(text_file) as f:\n",
        "    lines = f.read().split(\"\\n\")[:-1]\n",
        "text_pairs = []\n",
        "for line in lines:\n",
        "    english, spanish = line.split(\"\\t\")\n",
        "    spanish = \"[start] \" + spanish + \" [end]\"\n",
        "    text_pairs.append((english, spanish))"
      ]
    },
    {
      "cell_type": "code",
      "execution_count": null,
      "metadata": {
        "colab": {
          "base_uri": "https://localhost:8080/"
        },
        "id": "PqDdLpr_IwcY",
        "outputId": "d0b69cda-af9b-48ce-89f5-36c431f1fffc"
      },
      "outputs": [
        {
          "output_type": "stream",
          "name": "stdout",
          "text": [
            "('I am suspicious of him.', '[start] Yo sospecho de él. [end]')\n"
          ]
        }
      ],
      "source": [
        "import random\n",
        "print(random.choice(text_pairs))"
      ]
    },
    {
      "cell_type": "code",
      "execution_count": null,
      "metadata": {
        "id": "yRVx-RtVIwcY"
      },
      "outputs": [],
      "source": [
        "import random\n",
        "random.shuffle(text_pairs)\n",
        "num_val_samples = int(0.15 * len(text_pairs))\n",
        "num_train_samples = len(text_pairs) - 2 * num_val_samples\n",
        "train_pairs = text_pairs[:num_train_samples]\n",
        "val_pairs = text_pairs[num_train_samples:num_train_samples + num_val_samples]\n",
        "test_pairs = text_pairs[num_train_samples + num_val_samples:]"
      ]
    },
    {
      "cell_type": "markdown",
      "metadata": {
        "id": "1AvLc5cZIwcY"
      },
      "source": [
        "**Vectorizing the English and Spanish text pairs**"
      ]
    },
    {
      "cell_type": "code",
      "execution_count": null,
      "metadata": {
        "id": "4Jj-NJ0UIwcZ"
      },
      "outputs": [],
      "source": [
        "import tensorflow as tf\n",
        "import string\n",
        "import re\n",
        "from tensorflow import keras\n",
        "from tensorflow.keras import layers\n",
        "\n",
        "strip_chars = string.punctuation + \"¿\"\n",
        "strip_chars = strip_chars.replace(\"[\", \"\")\n",
        "strip_chars = strip_chars.replace(\"]\", \"\")\n",
        "\n",
        "def custom_standardization(input_string):\n",
        "    lowercase = tf.strings.lower(input_string)\n",
        "    return tf.strings.regex_replace(\n",
        "        lowercase, f\"[{re.escape(strip_chars)}]\", \"\")\n",
        "\n",
        "vocab_size = 15000\n",
        "sequence_length = 20\n",
        "\n",
        "source_vectorization = layers.TextVectorization(\n",
        "    max_tokens=vocab_size,\n",
        "    output_mode=\"int\",\n",
        "    output_sequence_length=sequence_length,\n",
        ")\n",
        "target_vectorization = layers.TextVectorization(\n",
        "    max_tokens=vocab_size,\n",
        "    output_mode=\"int\",\n",
        "    output_sequence_length=sequence_length + 1,\n",
        "    standardize=custom_standardization,\n",
        ")\n",
        "train_english_texts = [pair[0] for pair in train_pairs]\n",
        "train_spanish_texts = [pair[1] for pair in train_pairs]\n",
        "source_vectorization.adapt(train_english_texts)\n",
        "target_vectorization.adapt(train_spanish_texts)"
      ]
    },
    {
      "cell_type": "markdown",
      "metadata": {
        "id": "UGSrJaZZIwcZ"
      },
      "source": [
        "**Preparing datasets for the translation task**"
      ]
    },
    {
      "cell_type": "code",
      "execution_count": null,
      "metadata": {
        "id": "lS9TvaZYIwca"
      },
      "outputs": [],
      "source": [
        "batch_size = 64\n",
        "\n",
        "def format_dataset(eng, spa):\n",
        "    eng = source_vectorization(eng)\n",
        "    spa = target_vectorization(spa)\n",
        "    return ({\n",
        "        \"english\": eng,\n",
        "        \"spanish\": spa[:, :-1],\n",
        "    }, spa[:, 1:])\n",
        "\n",
        "def make_dataset(pairs):\n",
        "    eng_texts, spa_texts = zip(*pairs)\n",
        "    eng_texts = list(eng_texts)\n",
        "    spa_texts = list(spa_texts)\n",
        "    dataset = tf.data.Dataset.from_tensor_slices((eng_texts, spa_texts))\n",
        "    dataset = dataset.batch(batch_size)\n",
        "    dataset = dataset.map(format_dataset, num_parallel_calls=4)\n",
        "    return dataset.shuffle(2048).prefetch(16).cache()\n",
        "\n",
        "train_ds = make_dataset(train_pairs)\n",
        "val_ds = make_dataset(val_pairs)"
      ]
    },
    {
      "cell_type": "code",
      "execution_count": null,
      "metadata": {
        "colab": {
          "base_uri": "https://localhost:8080/",
          "height": 219
        },
        "id": "LnYSOuv3Iwca",
        "outputId": "89a7a08c-7776-4c38-c8e9-9c79cbdfb9bb"
      },
      "outputs": [],
      "source": [
        "for inputs, targets in train_ds.take(1):\n",
        "    print(f\"inputs['english'].shape: {inputs['english'].shape}\")\n",
        "    print(f\"inputs['spanish'].shape: {inputs['spanish'].shape}\")\n",
        "    print(f\"targets.shape: {targets.shape}\")"
      ]
    },
    {
      "cell_type": "markdown",
      "metadata": {
        "id": "si2IWV84Iwcc"
      },
      "source": [
        "### Seq2Seq learning with Transformer Implement"
      ]
    },
    {
      "cell_type": "markdown",
      "metadata": {
        "id": "qqa5Z9sZIwcc"
      },
      "source": [
        "#### The Transformer decoder"
      ]
    },
    {
      "cell_type": "markdown",
      "source": [
        "Transformer 模型特點 :Transformer 模型的主要特點是完全摒棄了傳統的循環神經網絡（RNN）和卷積神經網絡（CNN）結構，並引入了 Self-Attention 機制作為核心概念。"
      ],
      "metadata": {
        "id": "wZtnh7OTdoQD"
      }
    },
    {
      "cell_type": "markdown",
      "source": [
        "Transformer 模型由兩個主要部分組成：編碼器（Encoder）和解碼器（Decoder）。編碼器負責將輸入序列轉換為一系列上下文表示，而解碼器則根據編碼器的輸出和先前的預測，生成目標序列的機率分佈。"
      ],
      "metadata": {
        "id": "7z4eFz6hd6L8"
      }
    },
    {
      "cell_type": "markdown",
      "source": [],
      "metadata": {
        "id": "e3rOxUNQd54e"
      }
    },
    {
      "cell_type": "markdown",
      "metadata": {
        "id": "SM_3pgQ3Iwcc"
      },
      "source": [
        "**The `TransformerDecoder`**\n",
        "負責根據 encoder 的輸出和先前的預測，生成目標序列的機率分佈"
      ]
    },
    {
      "cell_type": "code",
      "execution_count": null,
      "metadata": {
        "id": "3xvXEDbXIwcc"
      },
      "outputs": [],
      "source": [
        "class TransformerDecoder(layers.Layer):\n",
        "    def __init__(self, embed_dim, dense_dim, num_heads, **kwargs):\n",
        "\n",
        "        ## brief\n",
        "        #param embed_dim - 表示 word 或 lemma 的特徵向量維度\n",
        "        #param dense_dim - 用來指定中間隱藏層的 dim 大小\n",
        "        #param num_heads - Multi-head 數量\n",
        "        super().__init__(**kwargs)\n",
        "        self.embed_dim = embed_dim\n",
        "        self.dense_dim = dense_dim\n",
        "        self.num_heads = num_heads\n",
        "        self.attention_1 = layers.MultiHeadAttention(\n",
        "            num_heads=num_heads, key_dim=embed_dim)\n",
        "        self.attention_2 = layers.MultiHeadAttention(\n",
        "            num_heads=num_heads, key_dim=embed_dim)\n",
        "        self.dense_proj = keras.Sequential(\n",
        "            [layers.Dense(dense_dim, activation=\"relu\"),\n",
        "             layers.Dense(embed_dim),]\n",
        "        )\n",
        "        self.layernorm_1 = layers.LayerNormalization()\n",
        "        self.layernorm_2 = layers.LayerNormalization()\n",
        "        self.layernorm_3 = layers.LayerNormalization()\n",
        "        self.supports_masking = True\n",
        "\n",
        "    def get_config(self):\n",
        "        config = super().get_config()\n",
        "        config.update({\n",
        "            \"embed_dim\": self.embed_dim,\n",
        "            \"num_heads\": self.num_heads,\n",
        "            \"dense_dim\": self.dense_dim,\n",
        "        })\n",
        "        return config\n",
        "\n",
        "    def get_causal_attention_mask(self, inputs):\n",
        "        input_shape = tf.shape(inputs)\n",
        "        batch_size, sequence_length = input_shape[0], input_shape[1]\n",
        "        i = tf.range(sequence_length)[:, tf.newaxis]\n",
        "        j = tf.range(sequence_length)\n",
        "        mask = tf.cast(i >= j, dtype=\"int32\")\n",
        "        mask = tf.reshape(mask, (1, input_shape[1], input_shape[1]))\n",
        "        mult = tf.concat(\n",
        "            [tf.expand_dims(batch_size, -1),\n",
        "             tf.constant([1, 1], dtype=tf.int32)], axis=0)\n",
        "        return tf.tile(mask, mult)\n",
        "\n",
        "    def call(self, inputs, encoder_outputs, mask=None):\n",
        "        causal_mask = self.get_causal_attention_mask(inputs)\n",
        "        if mask is not None:\n",
        "            padding_mask = tf.cast(\n",
        "                mask[:, tf.newaxis, :], dtype=\"int32\")\n",
        "            padding_mask = tf.minimum(padding_mask, causal_mask)\n",
        "        else:\n",
        "            padding_mask = mask\n",
        "        attention_output_1 = self.attention_1(\n",
        "            query=inputs,\n",
        "            value=inputs,\n",
        "            key=inputs,\n",
        "            attention_mask=causal_mask)\n",
        "        attention_output_1 = self.layernorm_1(inputs + attention_output_1)\n",
        "        attention_output_2 = self.attention_2(\n",
        "            query=attention_output_1,\n",
        "            value=encoder_outputs,\n",
        "            key=encoder_outputs,\n",
        "            attention_mask=padding_mask,\n",
        "        )\n",
        "        attention_output_2 = self.layernorm_2(\n",
        "            attention_output_1 + attention_output_2)\n",
        "        proj_output = self.dense_proj(attention_output_2)\n",
        "        return self.layernorm_3(attention_output_2 + proj_output)"
      ]
    },
    {
      "cell_type": "markdown",
      "metadata": {
        "id": "2wXqdWnWIwcc"
      },
      "source": [
        "#### Putting it all together: A Transformer for machine translation"
      ]
    },
    {
      "cell_type": "markdown",
      "metadata": {
        "id": "0IWwcDGlIwcc"
      },
      "source": [
        "**PositionalEmbedding layer**\n",
        "用於將 sequence 中每個位置的信息加入到 vector 中，讓模型能夠考慮 sequence 的順序"
      ]
    },
    {
      "cell_type": "code",
      "execution_count": null,
      "metadata": {
        "id": "EMI27jHOIwcc"
      },
      "outputs": [],
      "source": [
        "class PositionalEmbedding(layers.Layer):\n",
        "    def __init__(self, sequence_length, input_dim, output_dim, **kwargs):\n",
        "        ### brief\n",
        "        #param sequence_length - seq 長度， input sequence 的最大長度\n",
        "        #param input_dim - input sequence 的 dim 大小\n",
        "        #param output_dim - 被 embedding 的 sequence 的 dim 大小\n",
        "        super().__init__(**kwargs)\n",
        "        self.token_embeddings = layers.Embedding(\n",
        "            input_dim=input_dim, output_dim=output_dim)\n",
        "        self.position_embeddings = layers.Embedding(\n",
        "            input_dim=sequence_length, output_dim=output_dim)\n",
        "        self.sequence_length = sequence_length\n",
        "        self.input_dim = input_dim\n",
        "        self.output_dim = output_dim\n",
        "\n",
        "    def call(self, inputs):\n",
        "        length = tf.shape(inputs)[-1]\n",
        "        positions = tf.range(start=0, limit=length, delta=1)\n",
        "        embedded_tokens = self.token_embeddings(inputs)\n",
        "        embedded_positions = self.position_embeddings(positions)\n",
        "        return embedded_tokens + embedded_positions\n",
        "\n",
        "    def compute_mask(self, inputs, mask=None):\n",
        "        return tf.math.not_equal(inputs, 0)\n",
        "\n",
        "    def get_config(self):\n",
        "        config = super(PositionalEmbedding, self).get_config()\n",
        "        config.update({\n",
        "            \"output_dim\": self.output_dim,\n",
        "            \"sequence_length\": self.sequence_length,\n",
        "            \"input_dim\": self.input_dim,\n",
        "        })\n",
        "        return config"
      ]
    },
    {
      "cell_type": "markdown",
      "metadata": {
        "id": "0XNKNBQBIwcc"
      },
      "source": [
        "**Transformer Encoder**\n",
        "用於將 input sequeuce 進行特徵提取和編碼，以捕捉 sequence 中的上下文"
      ]
    },
    {
      "cell_type": "code",
      "source": [
        "## Transformer Encoder\n",
        "class TransformerEncoder(layers.Layer):\n",
        "    def __init__(self, embed_dim, dense_dim, num_heads, **kwargs):\n",
        "        super().__init__(**kwargs)\n",
        "        self.embed_dim = embed_dim\n",
        "        self.dense_dim = dense_dim\n",
        "        self.num_heads = num_heads\n",
        "        # Multi-Head Attention layer\n",
        "        self.attention = layers.MultiHeadAttention(\n",
        "            num_heads=num_heads, key_dim=embed_dim)\n",
        "        self.dense_proj = keras.Sequential(\n",
        "            [layers.Dense(dense_dim, activation=\"relu\"),\n",
        "             layers.Dense(embed_dim),]\n",
        "        )\n",
        "        self.layernorm_1 = layers.LayerNormalization()\n",
        "        self.layernorm_2 = layers.LayerNormalization()\n",
        "\n",
        "    def call(self, inputs):\n",
        "        attention_output = self.attention(inputs, inputs)\n",
        "        proj_input = self.layernorm_1(inputs + attention_output)\n",
        "        proj_output = self.dense_proj(proj_input)\n",
        "        return self.layernorm_2(proj_input + proj_output)\n",
        "\n",
        "    def get_config(self):\n",
        "        config = super().get_config()\n",
        "        config.update({\n",
        "            \"embed_dim\": self.embed_dim,\n",
        "            \"num_heads\": self.num_heads,\n",
        "            \"dense_dim\": self.dense_dim,\n",
        "        })\n",
        "        return config"
      ],
      "metadata": {
        "id": "nFiWFY1YYTk1"
      },
      "execution_count": null,
      "outputs": []
    },
    {
      "cell_type": "markdown",
      "source": [
        "**End-to-end Transformer**\n",
        "將 Encoder 和 Decoder 的輸入和輸出連接起來，形成最終的Transformer模型"
      ],
      "metadata": {
        "id": "E45F4femj5no"
      }
    },
    {
      "cell_type": "code",
      "execution_count": null,
      "metadata": {
        "id": "QnnALDB5Iwcd"
      },
      "outputs": [],
      "source": [
        "\n",
        "embed_dim = 256\n",
        "dense_dim = 2048\n",
        "num_heads = 8\n",
        "\n",
        "encoder_inputs = keras.Input(shape=(None,), dtype=\"int64\", name=\"english\")\n",
        "x = PositionalEmbedding(sequence_length, vocab_size, embed_dim)(encoder_inputs)\n",
        "encoder_outputs = TransformerEncoder(embed_dim, dense_dim, num_heads)(x)\n",
        "\n",
        "decoder_inputs = keras.Input(shape=(None,), dtype=\"int64\", name=\"spanish\")\n",
        "x = PositionalEmbedding(sequence_length, vocab_size, embed_dim)(decoder_inputs)\n",
        "x = TransformerDecoder(embed_dim, dense_dim, num_heads)(x, encoder_outputs)\n",
        "x = layers.Dropout(0.5)(x)\n",
        "decoder_outputs = layers.Dense(vocab_size, activation=\"softmax\")(x)\n",
        "transformer = keras.Model([encoder_inputs, decoder_inputs], decoder_outputs)"
      ]
    },
    {
      "cell_type": "markdown",
      "metadata": {
        "id": "duuVZ45AIwcd"
      },
      "source": [
        "**Training**"
      ]
    },
    {
      "cell_type": "code",
      "execution_count": null,
      "metadata": {
        "id": "xj53aZeMIwcd",
        "colab": {
          "base_uri": "https://localhost:8080/"
        },
        "outputId": "77d80306-9105-4713-8935-48de592b1b24"
      },
      "outputs": [
        {
          "output_type": "stream",
          "name": "stdout",
          "text": [
            "Epoch 1/15\n",
            "1302/1302 [==============================] - 113s 80ms/step - loss: 3.0028 - accuracy: 0.5295 - val_loss: 2.5603 - val_accuracy: 0.5827\n",
            "Epoch 2/15\n",
            "1302/1302 [==============================] - 89s 68ms/step - loss: 2.6242 - accuracy: 0.5830 - val_loss: 2.3962 - val_accuracy: 0.6092\n",
            "Epoch 3/15\n",
            "1302/1302 [==============================] - 89s 68ms/step - loss: 2.4338 - accuracy: 0.6131 - val_loss: 2.3353 - val_accuracy: 0.6225\n",
            "Epoch 4/15\n",
            "1302/1302 [==============================] - 88s 68ms/step - loss: 2.3166 - accuracy: 0.6331 - val_loss: 2.2857 - val_accuracy: 0.6346\n",
            "Epoch 5/15\n",
            "1302/1302 [==============================] - 90s 69ms/step - loss: 2.2353 - accuracy: 0.6478 - val_loss: 2.2900 - val_accuracy: 0.6365\n",
            "Epoch 6/15\n",
            "1302/1302 [==============================] - 89s 68ms/step - loss: 2.1721 - accuracy: 0.6599 - val_loss: 2.2832 - val_accuracy: 0.6419\n",
            "Epoch 7/15\n",
            "1302/1302 [==============================] - 89s 68ms/step - loss: 2.1095 - accuracy: 0.6728 - val_loss: 2.2596 - val_accuracy: 0.6476\n",
            "Epoch 8/15\n",
            "1302/1302 [==============================] - 89s 68ms/step - loss: 2.0512 - accuracy: 0.6841 - val_loss: 2.2313 - val_accuracy: 0.6558\n",
            "Epoch 9/15\n",
            "1302/1302 [==============================] - 89s 69ms/step - loss: 1.9986 - accuracy: 0.6933 - val_loss: 2.2350 - val_accuracy: 0.6573\n",
            "Epoch 10/15\n",
            "1302/1302 [==============================] - 89s 68ms/step - loss: 1.9567 - accuracy: 0.7010 - val_loss: 2.2227 - val_accuracy: 0.6616\n",
            "Epoch 11/15\n",
            "1302/1302 [==============================] - 89s 68ms/step - loss: 1.9228 - accuracy: 0.7071 - val_loss: 2.2462 - val_accuracy: 0.6608\n",
            "Epoch 12/15\n",
            "1302/1302 [==============================] - 89s 68ms/step - loss: 1.8944 - accuracy: 0.7121 - val_loss: 2.2459 - val_accuracy: 0.6656\n",
            "Epoch 13/15\n",
            "1302/1302 [==============================] - 89s 68ms/step - loss: 1.8701 - accuracy: 0.7168 - val_loss: 2.2572 - val_accuracy: 0.6662\n",
            "Epoch 14/15\n",
            "1302/1302 [==============================] - 89s 68ms/step - loss: 1.8482 - accuracy: 0.7207 - val_loss: 2.2559 - val_accuracy: 0.6648\n",
            "Epoch 15/15\n",
            "1302/1302 [==============================] - 90s 69ms/step - loss: 1.8269 - accuracy: 0.7252 - val_loss: 2.3038 - val_accuracy: 0.6649\n"
          ]
        },
        {
          "output_type": "execute_result",
          "data": {
            "text/plain": [
              "<keras.callbacks.History at 0x7fad2839bca0>"
            ]
          },
          "metadata": {},
          "execution_count": 15
        }
      ],
      "source": [
        "transformer.compile(\n",
        "    optimizer=\"rmsprop\",\n",
        "    loss=\"sparse_categorical_crossentropy\",\n",
        "    metrics=[\"accuracy\"])\n",
        "transformer.fit(train_ds, epochs=15, validation_data=val_ds)"
      ]
    },
    {
      "cell_type": "markdown",
      "metadata": {
        "id": "_dBcOqH1Iwcd"
      },
      "source": [
        "**Translating new sentences**"
      ]
    },
    {
      "cell_type": "code",
      "execution_count": null,
      "metadata": {
        "id": "eB6uyccFIwcd",
        "colab": {
          "base_uri": "https://localhost:8080/"
        },
        "outputId": "b2129cff-fe3a-4b70-d84c-8ce554b72868"
      },
      "outputs": [
        {
          "output_type": "stream",
          "name": "stdout",
          "text": [
            "-\n",
            "Where is the telephone book?\n",
            "[start] dónde está el libro [end]\n",
            "-\n",
            "The needs of the many outweigh the needs of the few.\n",
            "[start] el necesita la parte del [UNK] de los pocas [end]\n",
            "-\n",
            "The meaning of this sentence is ambiguous.\n",
            "[start] el nombre de esta oración es [UNK] [end]\n",
            "-\n",
            "Rome is in Italy.\n",
            "[start] en qué va en italia [end]\n",
            "-\n",
            "Tom and Mary are in Tom's car.\n",
            "[start] tom y mary están en el auto de tom [end]\n",
            "-\n",
            "Whoever wants to come will be welcomed.\n",
            "[start] el que quiere ir a ser excelente [end]\n",
            "-\n",
            "I thought you didn't have any family.\n",
            "[start] pensé que no tenías familia [end]\n",
            "-\n",
            "I don't know how to thank you.\n",
            "[start] no sé cómo [UNK] [end]\n",
            "-\n",
            "Tom refused to pay his bill.\n",
            "[start] tom negó a pagar la cuenta [end]\n",
            "-\n",
            "I'm in danger.\n",
            "[start] estoy en peligro [end]\n",
            "-\n",
            "What are you good at?\n",
            "[start] qué estás bien [end]\n",
            "-\n",
            "Tom shredded the lettuce.\n",
            "[start] tom puso la [UNK] [end]\n",
            "-\n",
            "What did you do this week?\n",
            "[start] qué has hecho esta semana [end]\n",
            "-\n",
            "What would you like for supper?\n",
            "[start] qué te gustaría comer [end]\n",
            "-\n",
            "I drive a BMW.\n",
            "[start] yo lo [UNK] [end]\n",
            "-\n",
            "Tom isn't optimistic.\n",
            "[start] tom no es rico [end]\n",
            "-\n",
            "What can go wrong?\n",
            "[start] qué podemos ir mal [end]\n",
            "-\n",
            "Tom discovered two dead bodies in his basement.\n",
            "[start] tom encontró dos muerto en su [UNK] [end]\n",
            "-\n",
            "Apparently, we'll be getting a raise within two months.\n",
            "[start] parece bien un siempre vas a [UNK] durante dos meses [end]\n",
            "-\n",
            "I need to charge my mobile.\n",
            "[start] necesito mi puesto mi perro [end]\n"
          ]
        }
      ],
      "source": [
        "import numpy as np\n",
        "spa_vocab = target_vectorization.get_vocabulary()\n",
        "spa_index_lookup = dict(zip(range(len(spa_vocab)), spa_vocab))\n",
        "max_decoded_sentence_length = 20\n",
        "\n",
        "def decode_sequence(input_sentence):\n",
        "    tokenized_input_sentence = source_vectorization([input_sentence])\n",
        "    decoded_sentence = \"[start]\"\n",
        "    for i in range(max_decoded_sentence_length):\n",
        "        tokenized_target_sentence = target_vectorization(\n",
        "            [decoded_sentence])[:, :-1]\n",
        "        predictions = transformer(\n",
        "            [tokenized_input_sentence, tokenized_target_sentence])\n",
        "        sampled_token_index = np.argmax(predictions[0, i, :])\n",
        "        sampled_token = spa_index_lookup[sampled_token_index]\n",
        "        decoded_sentence += \" \" + sampled_token\n",
        "        if sampled_token == \"[end]\":\n",
        "            break\n",
        "    return decoded_sentence\n",
        "\n",
        "test_eng_texts = [pair[0] for pair in test_pairs]\n",
        "for _ in range(20):\n",
        "    input_sentence = random.choice(test_eng_texts)\n",
        "    print(\"-\")\n",
        "    print(input_sentence)\n",
        "    print(decode_sequence(input_sentence))"
      ]
    }
  ],
  "metadata": {
    "colab": {
      "provenance": [],
      "toc_visible": true,
      "gpuType": "T4"
    },
    "kernelspec": {
      "display_name": "Python 3",
      "name": "python3"
    },
    "language_info": {
      "codemirror_mode": {
        "name": "ipython",
        "version": 3
      },
      "file_extension": ".py",
      "mimetype": "text/x-python",
      "name": "python",
      "nbconvert_exporter": "python",
      "pygments_lexer": "ipython3",
      "version": "3.7.0"
    },
    "accelerator": "GPU"
  },
  "nbformat": 4,
  "nbformat_minor": 0
}
